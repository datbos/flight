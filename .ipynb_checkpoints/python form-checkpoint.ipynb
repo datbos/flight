{
 "cells": [
  {
   "cell_type": "code",
   "execution_count": 1,
   "metadata": {},
   "outputs": [],
   "source": [
    "%matplotlib inline\n",
    "import pandas as pd\n",
    "import matplotlib.pyplot as plt\n",
    "import numpy as np\n",
    "import datetime\n",
    "import os\n",
    "from scipy.stats import norm\n",
    "from scipy import stats\n",
    "import seaborn as sns\n",
    "sns.set_style(\"darkgrid\")\n",
    "import statsmodels.api as sm\n",
    "import statsmodels.formula.api as smf\n",
    "from sklearn import linear_model, metrics"
   ]
  },
  {
   "cell_type": "code",
   "execution_count": 4,
   "metadata": {},
   "outputs": [
    {
     "name": "stdout",
     "output_type": "stream",
     "text": [
      "Hi! Enter Fahrenheit value, and get it in Celsius!\n",
      "32\n",
      "\n",
      "Your Celsius value is 0.0 C.\n",
      "\n"
     ]
    }
   ],
   "source": [
    "def main():\n",
    "    printC(formeln(typeHere()))\n",
    "\n",
    "def typeHere():\n",
    "    global Fahrenheit\n",
    "    try:\n",
    "        Fahrenheit = int(eval(input(\"Hi! Enter Fahrenheit value, and get it in Celsius!\\n\")))\n",
    "       \n",
    "    except ValueError:\n",
    "        print (\"\\nYour insertion was not a digit!\")\n",
    "        print (\"We've put your Fahrenheit value to 50!\")\n",
    "        Fahrenheit = 50\n",
    "    return Fahrenheit\n",
    "\n",
    "def formeln(c):\n",
    "    Celsius = (Fahrenheit - 32.00) * 5.00/9.00\n",
    "    return Celsius\n",
    "\n",
    "def printC(answer):\n",
    "    answer = str(answer)\n",
    "    print (\"\\nYour Celsius value is \" + answer + \" C.\\n\")\n",
    "\n",
    "\n",
    "\n",
    "main()"
   ]
  },
  {
   "cell_type": "code",
   "execution_count": 5,
   "metadata": {},
   "outputs": [
    {
     "data": {
      "text/plain": [
       "Int64Index([0, 24, 48], dtype='int64')"
      ]
     },
     "execution_count": 5,
     "metadata": {},
     "output_type": "execute_result"
    }
   ],
   "source": [
    "(pd.to_timedelta(np.arange(3),unit='d')+pd.to_timedelta(1,unit='s')).astype('timedelta64[h]')"
   ]
  },
  {
   "cell_type": "markdown",
   "metadata": {},
   "source": [
    "### Data Structures (list, dict, tuples, sets, strings)"
   ]
  },
  {
   "cell_type": "code",
   "execution_count": 18,
   "metadata": {},
   "outputs": [],
   "source": [
    "# Lists are enclosed in brackets:\n",
    "l = [1, 2, \"a\"]\n",
    "\n",
    "# Tuples are enclosed in parentheses:\n",
    "\n",
    "t = (1, 2, \"a\")\n",
    "\n",
    "# Tuples are faster and consume less memory. See Tuples for more information.\n",
    "\n",
    "# Dictionaries are built with curly brackets:\n",
    "\n",
    "d = {\"a\":1, \"b\":2}"
   ]
  },
  {
   "cell_type": "markdown",
   "metadata": {},
   "source": [
    "### LISTS"
   ]
  },
  {
   "cell_type": "code",
   "execution_count": 84,
   "metadata": {},
   "outputs": [
    {
     "name": "stdout",
     "output_type": "stream",
     "text": [
      "2\n",
      "[1, 2, 3, 4, ['d', 'e', 'f'], 'd', 'e', 'f']\n"
     ]
    },
    {
     "data": {
      "text/plain": [
       "5"
      ]
     },
     "execution_count": 84,
     "metadata": {},
     "output_type": "execute_result"
    }
   ],
   "source": [
    "l = [1, 2, 3]\n",
    "print (l[1])\n",
    "\n",
    "l.append(4)\n",
    "l.append(['d', 'e', 'f'])\n",
    "l.extend(['d', 'e','f'])\n",
    "print(l)\n",
    "l.index('d')"
   ]
  },
  {
   "cell_type": "code",
   "execution_count": 48,
   "metadata": {},
   "outputs": [
    {
     "data": {
      "text/plain": [
       "['a', 'b', 'c', 'b', 'a']"
      ]
     },
     "execution_count": 48,
     "metadata": {},
     "output_type": "execute_result"
    }
   ],
   "source": [
    "my_list = ['a','b','c','b', 'a']\n",
    "my_list"
   ]
  },
  {
   "cell_type": "code",
   "execution_count": 49,
   "metadata": {},
   "outputs": [
    {
     "data": {
      "text/plain": [
       "['a', 'b', 'a', 'c', 'b', 'a']"
      ]
     },
     "execution_count": 49,
     "metadata": {},
     "output_type": "execute_result"
    }
   ],
   "source": [
    "my_list.insert(2, 'a')\n",
    "my_list"
   ]
  },
  {
   "cell_type": "code",
   "execution_count": 50,
   "metadata": {},
   "outputs": [],
   "source": [
    "my_list.remove('a')"
   ]
  },
  {
   "cell_type": "code",
   "execution_count": 51,
   "metadata": {},
   "outputs": [
    {
     "data": {
      "text/plain": [
       "['b', 'a', 'c', 'b', 'a']"
      ]
     },
     "execution_count": 51,
     "metadata": {},
     "output_type": "execute_result"
    }
   ],
   "source": [
    "my_list"
   ]
  },
  {
   "cell_type": "code",
   "execution_count": 52,
   "metadata": {},
   "outputs": [
    {
     "data": {
      "text/plain": [
       "2"
      ]
     },
     "execution_count": 52,
     "metadata": {},
     "output_type": "execute_result"
    }
   ],
   "source": [
    "my_list.count('b')"
   ]
  },
  {
   "cell_type": "code",
   "execution_count": 53,
   "metadata": {},
   "outputs": [
    {
     "data": {
      "text/plain": [
       "['b', 'a', 'c', 'b']"
      ]
     },
     "execution_count": 53,
     "metadata": {},
     "output_type": "execute_result"
    }
   ],
   "source": [
    "my_list.pop()\n",
    "my_list"
   ]
  },
  {
   "cell_type": "code",
   "execution_count": 54,
   "metadata": {},
   "outputs": [
    {
     "data": {
      "text/plain": [
       "['c', 'b', 'b', 'a']"
      ]
     },
     "execution_count": 54,
     "metadata": {},
     "output_type": "execute_result"
    }
   ],
   "source": [
    "my_list.sort()\n",
    "my_list.sort(reverse=True)\n",
    "my_list"
   ]
  },
  {
   "cell_type": "code",
   "execution_count": 55,
   "metadata": {},
   "outputs": [
    {
     "data": {
      "text/plain": [
       "['c', 'b', 'b', 'a', 2, 3, 4]"
      ]
     },
     "execution_count": 55,
     "metadata": {},
     "output_type": "execute_result"
    }
   ],
   "source": [
    "my_list += [2]\n",
    "my_list += [3, 4]\n",
    "my_list"
   ]
  },
  {
   "cell_type": "code",
   "execution_count": 56,
   "metadata": {},
   "outputs": [
    {
     "data": {
      "text/plain": [
       "['c', 'b', 'b', 'a', 2, 3, 4, 'c', 'b', 'b', 'a', 2, 3, 4]"
      ]
     },
     "execution_count": 56,
     "metadata": {},
     "output_type": "execute_result"
    }
   ],
   "source": [
    "my_list = my_list * 2\n",
    "my_list"
   ]
  },
  {
   "cell_type": "code",
   "execution_count": 64,
   "metadata": {},
   "outputs": [
    {
     "name": "stdout",
     "output_type": "stream",
     "text": [
      "[2, 3, 4, 5] [0, 1] [2, 3, 4]\n"
     ]
    }
   ],
   "source": [
    "# list[first index:last index:step]\n",
    "# list[:]\n",
    "a = [0, 1, 2, 3, 4, 5]\n",
    "print (a[2:], a[:2],a[2:-1])"
   ]
  },
  {
   "cell_type": "code",
   "execution_count": 66,
   "metadata": {},
   "outputs": [
    {
     "name": "stdout",
     "output_type": "stream",
     "text": [
      "[0, 2, 4, 6, 8]\n"
     ]
    },
    {
     "data": {
      "text/plain": [
       "[0, 2, 4, 6, 8]"
      ]
     },
     "execution_count": 66,
     "metadata": {},
     "output_type": "execute_result"
    }
   ],
   "source": [
    "# list comprehension\n",
    "evens = []\n",
    "for i in range(10):\n",
    "    if i % 2 == 0:\n",
    "        evens.append(i)\n",
    "print (evens)\n",
    "[i for i in range(10) if i % 2 == 0]  #it is more efficient"
   ]
  },
  {
   "cell_type": "code",
   "execution_count": 68,
   "metadata": {},
   "outputs": [
    {
     "name": "stdout",
     "output_type": "stream",
     "text": [
      "['a', 'b', 'c', 'd', 'e', 'f']\n",
      "f\n",
      "['a', 'b', 'c', 'd', 'e']\n"
     ]
    }
   ],
   "source": [
    "# lists as stacks, that is a last-in, first-out data structures\n",
    "stack = ['a','b','c','d']\n",
    "stack.append('e')\n",
    "stack.append('f')\n",
    "print (stack)\n",
    "\n",
    "print (stack.pop())\n",
    "print (stack)\n"
   ]
  },
  {
   "cell_type": "code",
   "execution_count": 70,
   "metadata": {},
   "outputs": [
    {
     "name": "stdout",
     "output_type": "stream",
     "text": [
      "['a', 'b', 'c', 'd', 'e', 'f']\n",
      "a\n",
      "['b', 'c', 'd', 'e', 'f']\n",
      "b\n",
      "['c', 'd', 'e', 'f']\n"
     ]
    }
   ],
   "source": [
    "# lists as queues, that is a first in - first out \n",
    "queue = ['a', 'b', 'c', 'd']\n",
    "queue.append('e')\n",
    "queue.append('f')\n",
    "print (queue)\n",
    "\n",
    "print (queue.pop(0))\n",
    "print (queue)\n",
    "\n",
    "print (queue.pop(0))\n",
    "print (queue)"
   ]
  },
  {
   "cell_type": "code",
   "execution_count": 73,
   "metadata": {},
   "outputs": [
    {
     "name": "stdout",
     "output_type": "stream",
     "text": [
      "[1, 2, [3, 10]] [1, 2, [3, 10]]\n"
     ]
    }
   ],
   "source": [
    "# copy lists\n",
    "a = [1, 2, [3, 4]]\n",
    "b = a[:]\n",
    "a[2][1] = 10\n",
    "print (a,b)\n"
   ]
  },
  {
   "cell_type": "code",
   "execution_count": 82,
   "metadata": {},
   "outputs": [
    {
     "data": {
      "text/plain": [
       "[-2, -1, 0, 1, 3, 4]"
      ]
     },
     "execution_count": 82,
     "metadata": {},
     "output_type": "execute_result"
    }
   ],
   "source": [
    "# Inserting items into a sorted list\n",
    "x = [4, 1,2,0,-1,-2]\n",
    "x.sort()\n",
    "import bisect\n",
    "bisect.insort(x, 3)\n",
    "x.remove(2)\n",
    "x"
   ]
  },
  {
   "cell_type": "code",
   "execution_count": 83,
   "metadata": {},
   "outputs": [
    {
     "name": "stdout",
     "output_type": "stream",
     "text": [
      "[-2, -1, 0, 1, 3, 4]\n"
     ]
    },
    {
     "data": {
      "text/plain": [
       "4"
      ]
     },
     "execution_count": 83,
     "metadata": {},
     "output_type": "execute_result"
    }
   ],
   "source": [
    "#x = [4, 1]\n",
    "x.sort()\n",
    "print (x)\n",
    "import bisect\n",
    "bisect.bisect(x, 2)"
   ]
  },
  {
   "cell_type": "markdown",
   "metadata": {},
   "source": [
    "### TUPLES"
   ]
  },
  {
   "cell_type": "code",
   "execution_count": null,
   "metadata": {},
   "outputs": [],
   "source": []
  }
 ],
 "metadata": {
  "kernelspec": {
   "display_name": "insight",
   "language": "python",
   "name": "insight"
  },
  "language_info": {
   "codemirror_mode": {
    "name": "ipython",
    "version": 3
   },
   "file_extension": ".py",
   "mimetype": "text/x-python",
   "name": "python",
   "nbconvert_exporter": "python",
   "pygments_lexer": "ipython3",
   "version": "3.7.4"
  }
 },
 "nbformat": 4,
 "nbformat_minor": 2
}
