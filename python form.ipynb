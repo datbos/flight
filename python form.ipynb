{
 "cells": [
  {
   "cell_type": "code",
   "execution_count": null,
   "metadata": {},
   "outputs": [],
   "source": [
    "def main():\n",
    "    printC(formeln(typeHere()))\n",
    "\n",
    "def typeHere():\n",
    "    global Fahrenheit\n",
    "    try:\n",
    "        Fahrenheit = int(raw_input(\"Hi! Enter Fahrenheit value, and get it in Celsius!\\n\"))\n",
    "    except ValueError:\n",
    "        print \"\\nYour insertion was not a digit!\"\n",
    "        print \"We've put your Fahrenheit value to 50!\"\n",
    "        Fahrenheit = 50\n",
    "    return Fahrenheit\n",
    "\n",
    "def formeln(c):\n",
    "    Celsius = (Fahrenheit - 32.00) * 5.00/9.00\n",
    "    return Celsius\n",
    "\n",
    "def printC(answer):\n",
    "    answer = str(answer)\n",
    "    print \"\\nYour Celsius value is \" + answer + \" C.\\n\"\n",
    "\n",
    "\n",
    "\n",
    "main()"
   ]
  },
  {
   "cell_type": "code",
   "execution_count": null,
   "metadata": {},
   "outputs": [],
   "source": [
    "(pd.to_timedelta(np.arange(3),unit='d')+pd.to_timedelta(1,unit='s')).astype('timedelta64[h]')"
   ]
  }
 ],
 "metadata": {
  "kernelspec": {
   "display_name": "insight",
   "language": "python",
   "name": "insight"
  },
  "language_info": {
   "codemirror_mode": {
    "name": "ipython",
    "version": 3
   },
   "file_extension": ".py",
   "mimetype": "text/x-python",
   "name": "python",
   "nbconvert_exporter": "python",
   "pygments_lexer": "ipython3",
   "version": "3.7.4"
  }
 },
 "nbformat": 4,
 "nbformat_minor": 2
}
